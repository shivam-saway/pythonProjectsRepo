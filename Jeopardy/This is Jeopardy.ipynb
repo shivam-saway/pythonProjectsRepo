{
 "cells": [
  {
   "cell_type": "markdown",
   "metadata": {},
   "source": [
    "# This is Jeopardy!"
   ]
  },
  {
   "cell_type": "markdown",
   "metadata": {},
   "source": [
    "#### Overview"
   ]
  },
  {
   "cell_type": "markdown",
   "metadata": {},
   "source": [
    "This project is slightly different than others you have encountered thus far. Instead of a step-by-step tutorial, this project contains a series of open-ended requirements which describe the project you'll be building. There are many possible ways to correctly fulfill all of these requirements, and you should expect to use the internet, Codecademy, and/or other resources when you encounter a problem that you cannot easily solve."
   ]
  },
  {
   "cell_type": "markdown",
   "metadata": {},
   "source": [
    "#### Project Goals"
   ]
  },
  {
   "cell_type": "markdown",
   "metadata": {},
   "source": [
    "You will work to write several functions that investigate a dataset of _Jeopardy!_ questions and answers. Filter the dataset for topics that you're interested in, compute the average difficulty of those questions, and train to become the next Jeopardy champion!"
   ]
  },
  {
   "cell_type": "markdown",
   "metadata": {},
   "source": [
    "## Prerequisites"
   ]
  },
  {
   "cell_type": "markdown",
   "metadata": {},
   "source": [
    "In order to complete this project, you should have completed the Pandas lessons in the <a href=\"https://www.codecademy.com/learn/paths/analyze-data-with-python\">Analyze Data with Python Skill Path</a>. You can also find those lessons in the <a href=\"https://www.codecademy.com/learn/data-processing-pandas\">Data Analysis with Pandas course</a> or the <a href=\"https://www.codecademy.com/learn/paths/data-science/\">Data Scientist Career Path</a>.\n",
    "\n",
    "Finally, the <a href=\"https://www.codecademy.com/learn/practical-data-cleaning\">Practical Data Cleaning</a> course may also be helpful."
   ]
  },
  {
   "cell_type": "markdown",
   "metadata": {},
   "source": [
    "## Project Requirements"
   ]
  },
  {
   "cell_type": "markdown",
   "metadata": {},
   "source": [
    "1. We've provided a csv file containing data about the game show _Jeopardy!_ in a file named `jeopardy.csv`. Load the data into a DataFrame and investigate its contents. Try to print out specific columns.\n",
    "\n",
    "   Note that in order to make this project as \"real-world\" as possible, we haven't modified the data at all - we're giving it to you exactly how we found it. As a result, this data isn't as \"clean\" as the datasets you normally find on Codecademy. More specifically, there's something odd about the column names. After you figure out the problem with the column names, you may want to rename them to make your life easier for the rest of the project.\n",
    "   \n",
    "   In order to display the full contents of a column, we've added this line of code for you:\n",
    "   \n",
    "   ```py\n",
    "   pd.set_option('display.max_colwidth', None)\n",
    "   ```"
   ]
  },
  {
   "cell_type": "code",
   "execution_count": 1,
   "metadata": {},
   "outputs": [],
   "source": [
    "import pandas as pd\n",
    "import numpy as np\n",
    "pd.set_option('display.max_colwidth', None)"
   ]
  },
  {
   "cell_type": "code",
   "execution_count": 2,
   "metadata": {},
   "outputs": [],
   "source": [
    "jeopardy = pd.read_csv('jeopardy.csv')"
   ]
  },
  {
   "cell_type": "code",
   "execution_count": 3,
   "metadata": {},
   "outputs": [
    {
     "name": "stdout",
     "output_type": "stream",
     "text": [
      "   Show Number    Air Date      Round                         Category  Value  \\\n",
      "0         4680  2004-12-31  Jeopardy!                          HISTORY   $200   \n",
      "1         4680  2004-12-31  Jeopardy!  ESPN's TOP 10 ALL-TIME ATHLETES   $200   \n",
      "2         4680  2004-12-31  Jeopardy!      EVERYBODY TALKS ABOUT IT...   $200   \n",
      "3         4680  2004-12-31  Jeopardy!                 THE COMPANY LINE   $200   \n",
      "4         4680  2004-12-31  Jeopardy!              EPITAPHS & TRIBUTES   $200   \n",
      "\n",
      "                                                                                                      Question  \\\n",
      "0             For the last 8 years of his life, Galileo was under house arrest for espousing this man's theory   \n",
      "1  No. 2: 1912 Olympian; football star at Carlisle Indian School; 6 MLB seasons with the Reds, Giants & Braves   \n",
      "2                     The city of Yuma in this state has a record average of 4,055 hours of sunshine each year   \n",
      "3                         In 1963, live on \"The Art Linkletter Show\", this company served its billionth burger   \n",
      "4     Signer of the Dec. of Indep., framer of the Constitution of Mass., second President of the United States   \n",
      "\n",
      "       Answer  \n",
      "0  Copernicus  \n",
      "1  Jim Thorpe  \n",
      "2     Arizona  \n",
      "3  McDonald's  \n",
      "4  John Adams  \n"
     ]
    }
   ],
   "source": [
    "print(jeopardy.head())"
   ]
  },
  {
   "cell_type": "code",
   "execution_count": 4,
   "metadata": {},
   "outputs": [
    {
     "name": "stdout",
     "output_type": "stream",
     "text": [
      "         Show Number\n",
      "count  216930.000000\n",
      "mean     4264.238519\n",
      "std      1386.296335\n",
      "min         1.000000\n",
      "25%      3349.000000\n",
      "50%      4490.000000\n",
      "75%      5393.000000\n",
      "max      6300.000000\n"
     ]
    }
   ],
   "source": [
    "print(jeopardy.describe())"
   ]
  },
  {
   "cell_type": "code",
   "execution_count": 5,
   "metadata": {},
   "outputs": [
    {
     "name": "stdout",
     "output_type": "stream",
     "text": [
      "Index(['Show Number', ' Air Date', ' Round', ' Category', ' Value',\n",
      "       ' Question', ' Answer'],\n",
      "      dtype='object')\n"
     ]
    }
   ],
   "source": [
    "print(jeopardy.columns)"
   ]
  },
  {
   "cell_type": "code",
   "execution_count": 6,
   "metadata": {},
   "outputs": [],
   "source": [
    "# renaming columns to remove any space\n",
    "jeopardy.rename(columns=lambda col: col.strip(), inplace=True)"
   ]
  },
  {
   "cell_type": "code",
   "execution_count": 7,
   "metadata": {},
   "outputs": [
    {
     "name": "stdout",
     "output_type": "stream",
     "text": [
      "Index(['Show Number', 'Air Date', 'Round', 'Category', 'Value', 'Question',\n",
      "       'Answer'],\n",
      "      dtype='object')\n"
     ]
    }
   ],
   "source": [
    "print(jeopardy.columns)"
   ]
  },
  {
   "cell_type": "code",
   "execution_count": 8,
   "metadata": {},
   "outputs": [
    {
     "name": "stdout",
     "output_type": "stream",
     "text": [
      "[4680 5957 3751 ... 5070 5195 4999]\n",
      "['2004-12-31' '2010-07-06' '2000-12-18' ... '2006-09-29' '2007-03-23'\n",
      " '2006-05-11']\n",
      "['Jeopardy!' 'Double Jeopardy!' 'Final Jeopardy!' 'Tiebreaker']\n",
      "['HISTORY' \"ESPN's TOP 10 ALL-TIME ATHLETES\" 'EVERYBODY TALKS ABOUT IT...'\n",
      " ... 'OFF-BROADWAY' 'RIDDLE ME THIS' 'AUTHORS IN THEIR YOUTH']\n",
      "['$200' '$400' '$600' '$800' '$2,000' '$1000' '$1200' '$1600' '$2000'\n",
      " '$3,200' 'None' '$5,000' '$100' '$300' '$500' '$1,000' '$1,500' '$1,200'\n",
      " '$4,800' '$1,800' '$1,100' '$2,200' '$3,400' '$3,000' '$4,000' '$1,600'\n",
      " '$6,800' '$1,900' '$3,100' '$700' '$1,400' '$2,800' '$8,000' '$6,000'\n",
      " '$2,400' '$12,000' '$3,800' '$2,500' '$6,200' '$10,000' '$7,000' '$1,492'\n",
      " '$7,400' '$1,300' '$7,200' '$2,600' '$3,300' '$5,400' '$4,500' '$2,100'\n",
      " '$900' '$3,600' '$2,127' '$367' '$4,400' '$3,500' '$2,900' '$3,900'\n",
      " '$4,100' '$4,600' '$10,800' '$2,300' '$5,600' '$1,111' '$8,200' '$5,800'\n",
      " '$750' '$7,500' '$1,700' '$9,000' '$6,100' '$1,020' '$4,700' '$2,021'\n",
      " '$5,200' '$3,389' '$4,200' '$5' '$2,001' '$1,263' '$4,637' '$3,201'\n",
      " '$6,600' '$3,700' '$2,990' '$5,500' '$14,000' '$2,700' '$6,400' '$350'\n",
      " '$8,600' '$6,300' '$250' '$3,989' '$8,917' '$9,500' '$1,246' '$6,435'\n",
      " '$8,800' '$2,222' '$2,746' '$10,400' '$7,600' '$6,700' '$5,100' '$13,200'\n",
      " '$4,300' '$1,407' '$12,400' '$5,401' '$7,800' '$1,183' '$1,203' '$13,000'\n",
      " '$11,600' '$14,200' '$1,809' '$8,400' '$8,700' '$11,000' '$5,201'\n",
      " '$1,801' '$3,499' '$5,700' '$601' '$4,008' '$50' '$2,344' '$2,811'\n",
      " '$18,000' '$1,777' '$3,599' '$9,800' '$796' '$3,150' '$20' '$1,810' '$22'\n",
      " '$9,200' '$1,512' '$8,500' '$585' '$1,534' '$13,800' '$5,001' '$4,238'\n",
      " '$16,400' '$1,347' '$2547' '$11,200']\n",
      "[\"For the last 8 years of his life, Galileo was under house arrest for espousing this man's theory\"\n",
      " 'No. 2: 1912 Olympian; football star at Carlisle Indian School; 6 MLB seasons with the Reds, Giants & Braves'\n",
      " 'The city of Yuma in this state has a record average of 4,055 hours of sunshine each year'\n",
      " ...\n",
      " 'In Penny Lane, where this \"Hellraiser\" grew up, the barber shaves another customer--then flays him alive!'\n",
      " 'From Ft. Sill, Okla. he made the plea, Arizona is my land, my home, my father\\'s land, to which I now ask to... return\"'\n",
      " 'A silent movie title includes the last name of this 18th c. statesman & favorite of Catherine the Great']\n",
      "['Copernicus' 'Jim Thorpe' 'Arizona' ... 'Anaïs Nin' 'a titmouse'\n",
      " 'Grigori Alexandrovich Potemkin']\n"
     ]
    }
   ],
   "source": [
    "# printing unique values of diffrent columns of jeopardy\n",
    "\n",
    "unique_show_number = jeopardy['Show Number'].unique()\n",
    "unique_air_date = jeopardy['Air Date'].unique()\n",
    "unique_round = jeopardy['Round'].unique()\n",
    "unique_category = jeopardy['Category'].unique()\n",
    "unique_value = jeopardy['Value'].unique()\n",
    "unique_question = jeopardy['Question'].unique()\n",
    "unique_answer = jeopardy['Answer'].unique()\n",
    "\n",
    "print(unique_show_number)\n",
    "\n",
    "print(unique_air_date)\n",
    "\n",
    "print(unique_round)\n",
    "\n",
    "print(unique_category)\n",
    "\n",
    "print(unique_value)\n",
    "\n",
    "print(unique_question)\n",
    "\n",
    "print(unique_answer)"
   ]
  },
  {
   "cell_type": "code",
   "execution_count": 9,
   "metadata": {},
   "outputs": [
    {
     "name": "stdout",
     "output_type": "stream",
     "text": [
      "3640\n",
      "3640\n",
      "4\n",
      "27995\n",
      "150\n",
      "216124\n",
      "88268\n"
     ]
    }
   ],
   "source": [
    "# printing no of unique values of different columns of jeopardy\n",
    "\n",
    "nunique_show_number = jeopardy['Show Number'].nunique()\n",
    "nunique_air_date = jeopardy['Air Date'].nunique()\n",
    "nunique_round = jeopardy['Round'].nunique()\n",
    "nunique_category = jeopardy['Category'].nunique()\n",
    "nunique_value = jeopardy['Value'].nunique()\n",
    "nunique_question = jeopardy['Question'].nunique()\n",
    "nunique_answer = jeopardy['Answer'].nunique()\n",
    "\n",
    "print(nunique_show_number)\n",
    "\n",
    "print(nunique_air_date)\n",
    "\n",
    "print(nunique_round)\n",
    "\n",
    "print(nunique_category)\n",
    "\n",
    "print(nunique_value)\n",
    "\n",
    "print(nunique_question)\n",
    "\n",
    "print(nunique_answer)"
   ]
  },
  {
   "cell_type": "code",
   "execution_count": 10,
   "metadata": {},
   "outputs": [
    {
     "name": "stdout",
     "output_type": "stream",
     "text": [
      "0\n",
      "0\n",
      "0\n",
      "0\n",
      "0\n",
      "0\n",
      "2\n"
     ]
    }
   ],
   "source": [
    "# printing values which are NaN or None in each column\n",
    "\n",
    "missing_unique_show_number = jeopardy['Show Number'].isna().sum()\n",
    "missing_unique_air_date = jeopardy['Air Date'].isna().sum()\n",
    "missing_unique_round = jeopardy['Round'].isna().sum()\n",
    "missing_unique_category = jeopardy['Category'].isna().sum()\n",
    "missing_unique_value = jeopardy['Value'].isna().sum()\n",
    "missing_unique_question = jeopardy['Question'].isna().sum()\n",
    "missing_unique_answer = jeopardy['Answer'].isna().sum()\n",
    "\n",
    "print(missing_unique_show_number)\n",
    "\n",
    "print(missing_unique_air_date)\n",
    "\n",
    "print(missing_unique_round)\n",
    "\n",
    "print(missing_unique_category)\n",
    "\n",
    "print(missing_unique_value)\n",
    "\n",
    "print(missing_unique_question)\n",
    "\n",
    "print(missing_unique_answer)"
   ]
  },
  {
   "cell_type": "markdown",
   "metadata": {},
   "source": [
    "2. Write a function that filters the dataset for questions that contains all of the words in a list of words. For example, when the list `[\"King\", \"England\"]` was passed to our function, the function returned a DataFrame of 49 rows. Every row had the strings `\"King\"` and `\"England\"` somewhere in its `\" Question\"`.\n",
    "\n",
    "   Test your function by printing out the column containing the question of each row of the dataset."
   ]
  },
  {
   "cell_type": "code",
   "execution_count": 11,
   "metadata": {},
   "outputs": [],
   "source": [
    "def jeopardy_question_filter(jeopardy, filters, rows):\n",
    "    check_word_in_question = lambda row: any(word in row['Question'].split(\" \") for word in filters)\n",
    "    filtered_jeopardy = jeopardy[jeopardy.apply(check_word_in_question, axis=1)].iloc[:rows,] if rows > 0 else jeopardy[jeopardy.apply(check_word_in_question, axis=1)]\n",
    "    return filtered_jeopardy.reset_index()"
   ]
  },
  {
   "cell_type": "code",
   "execution_count": 12,
   "metadata": {},
   "outputs": [
    {
     "name": "stdout",
     "output_type": "stream",
     "text": [
      "    index  Show Number    Air Date             Round  \\\n",
      "0     116         5957  2010-07-06   Final Jeopardy!   \n",
      "1     296         4931  2006-02-06   Final Jeopardy!   \n",
      "2     386         2825  1996-12-06         Jeopardy!   \n",
      "3     621         4107  2002-06-11         Jeopardy!   \n",
      "4     811         4335  2003-06-06  Double Jeopardy!   \n",
      "5    1045         3534  2000-01-06  Double Jeopardy!   \n",
      "6    1074         4085  2002-05-10         Jeopardy!   \n",
      "7    1132         1279  1990-03-08         Jeopardy!   \n",
      "8    1171         1279  1990-03-08  Double Jeopardy!   \n",
      "9    1186         1279  1990-03-08   Final Jeopardy!   \n",
      "10   1828         3113  1998-02-25  Double Jeopardy!   \n",
      "11   1848         3113  1998-02-25  Double Jeopardy!   \n",
      "12   1860         3447  1999-09-07         Jeopardy!   \n",
      "13   1952         6294  2012-01-19  Double Jeopardy!   \n",
      "14   2312         5630  2009-02-13  Double Jeopardy!   \n",
      "15   2765         3815  2001-03-16         Jeopardy!   \n",
      "16   2780         3815  2001-03-16  Double Jeopardy!   \n",
      "17   3035         5079  2006-10-12  Double Jeopardy!   \n",
      "18   3089         4487  2004-02-24  Double Jeopardy!   \n",
      "19   3612         4582  2004-07-06         Jeopardy!   \n",
      "20   3861         6239  2011-11-03  Double Jeopardy!   \n",
      "21   4124         5797  2009-11-24  Double Jeopardy!   \n",
      "22   4183         4213  2002-12-18  Double Jeopardy!   \n",
      "23   4323         3436  1999-07-12         Jeopardy!   \n",
      "24   4362         3436  1999-07-12  Double Jeopardy!   \n",
      "25   4368         3436  1999-07-12  Double Jeopardy!   \n",
      "26   4403         1276  1990-03-05  Double Jeopardy!   \n",
      "27   4480         4700  2005-01-28  Double Jeopardy!   \n",
      "28   4637         3060  1997-12-12         Jeopardy!   \n",
      "29   4952         3003  1997-09-24  Double Jeopardy!   \n",
      "30   4953         3003  1997-09-24  Double Jeopardy!   \n",
      "31   5086         3480  1999-10-22  Double Jeopardy!   \n",
      "32   5171         1658  1991-11-13         Jeopardy!   \n",
      "33   5649         3911  2001-09-10         Jeopardy!   \n",
      "34   5968         2120  1993-11-19  Double Jeopardy!   \n",
      "35   6337         3517  1999-12-14  Double Jeopardy!   \n",
      "36   6343         3517  1999-12-14  Double Jeopardy!   \n",
      "37   6372          776  1988-01-11  Double Jeopardy!   \n",
      "38   6384          776  1988-01-11  Double Jeopardy!   \n",
      "39   6390          776  1988-01-11  Double Jeopardy!   \n",
      "40   6462         3010  1997-10-03   Final Jeopardy!   \n",
      "41   6463         3855  2001-05-11         Jeopardy!   \n",
      "42   6472         3855  2001-05-11         Jeopardy!   \n",
      "43   6768         4306  2003-04-28         Jeopardy!   \n",
      "44   6850         5363  2007-12-26  Double Jeopardy!   \n",
      "45   6875          958  1988-11-02         Jeopardy!   \n",
      "46   7179         3191  1998-06-15         Jeopardy!   \n",
      "47   7283         2515  1995-07-07  Double Jeopardy!   \n",
      "48   7308         4183  2002-11-06         Jeopardy!   \n",
      "\n",
      "                          Category   Value  \\\n",
      "0                   HISTORIC WOMEN    None   \n",
      "1                     FAMOUS SHIPS    None   \n",
      "2                    ANNUAL EVENTS    $500   \n",
      "3               \"BLACK\" OR \"WHITE\"   $1000   \n",
      "4                      \"S\"-OTERICA    $400   \n",
      "5                         DOUBLE A    $400   \n",
      "6                     CENTRAL PARK    $400   \n",
      "7                  THE MIDDLE AGES    $200   \n",
      "8               MYTHOLOGICAL PAIRS    $600   \n",
      "9                     FAMOUS NAMES    None   \n",
      "10                    TAKE A GUESS    $200   \n",
      "11            THE MAINE ATTRACTION   $1000   \n",
      "12                  FARAWAY PLACES    $200   \n",
      "13               WHAT'S YOUR BEEF?    $800   \n",
      "14               CANADIAN FOOTBALL   $1600   \n",
      "15           ARTISTS & THEIR WORKS    $400   \n",
      "16             LITERARY CHARACTERS  $1,000   \n",
      "17                        CATALINA   $2000   \n",
      "18                           HAIRY  $1,400   \n",
      "19                 GIVE ME AN \"A\"!   $1000   \n",
      "20      IT CAME FROM THE NEW WORLD    $400   \n",
      "21                    \"PH\"UN WORDS   $1600   \n",
      "22         JULIA ROBERTS FILM FEST   $1600   \n",
      "23                            \"TU\"    $200   \n",
      "24    THEIR COUNTRY'S LAST MONARCH  $1,000   \n",
      "25    THEIR COUNTRY'S LAST MONARCH   $1000   \n",
      "26                       EXPLORERS    $200   \n",
      "27         YOU HAD TO EXPECT OPERA   $1200   \n",
      "28         SOME MORE SIMIAN CINEMA    $400   \n",
      "29                 MUSICAL THEATRE    $200   \n",
      "30                    \"PH\"UN WORDS    $200   \n",
      "31                  THE FILM VAULT   $1000   \n",
      "32                   FAMOUS LLOYDS    $400   \n",
      "33     LARRY KING'S PUBLIC FIGURES    $400   \n",
      "34                   WORLD HISTORY    $400   \n",
      "35                             Y1K    $800   \n",
      "36                             Y1K   $1000   \n",
      "37                         HISTORY    $200   \n",
      "38                         HISTORY    $600   \n",
      "39                         HISTORY    $800   \n",
      "40                         BATTLES    None   \n",
      "41                  STATE CAPITALS    $100   \n",
      "42  THE KIDS LOVE THAT ROCK & ROLL    $200   \n",
      "43                             EDS    $800   \n",
      "44            WOMEN OF ACHIEVEMENT   $1200   \n",
      "45                TRAVEL & TOURISM    $200   \n",
      "46                     CONVENTIONS    $200   \n",
      "47                            1938   $1000   \n",
      "48                      \"H\" CITIES    $800   \n",
      "\n",
      "                                                                                                                                                                                                                                      Question  \\\n",
      "0                                                                                                                                                                         She was born in Virginia around 1596 & died in Kent, England in 1617   \n",
      "1                                                                                                                                                     On December 27, 1831 it departed Plymouth, England to map the coastline of South America   \n",
      "2                                                                                                                                                       The Tanglewood Music Festival is a summer highlight in Lenox in this New England state   \n",
      "3                                                                                                                                                                           Famous landmark composed of chalk in the county of Kent in England   \n",
      "4                                                                                                                                                               Examples of this TV format include \"Leave It to Beaver\" & \"The King of Queens\"   \n",
      "5                                                                                                                                                                                           It's how you properly address the Queen of England   \n",
      "6                                                                                                                                Central Park has a statue of King Wladyslaw II Jagiello of this country, who was also Grand Duke of Lithuania   \n",
      "7                                                                                                                                            Eleanor of Aquitaine accompanied her 1st husband, King Louis VII, on the 2nd one of these in 1147   \n",
      "8                                                                                                                                            He travels to Ireland to ask the hand of the princess Isolde for his uncle, King Mark of Cornwall   \n",
      "9                                                                                                                                       He published a history of Virginia & New England in 1624, after escaping from Turks, Indians & pirates   \n",
      "10                                                                                                                                                          Gwilym is the Welsh form of this name that's been popular in England for centuries   \n",
      "11                                                                                                                                                                                           It's the only National Park in all of New England   \n",
      "12                                                                                                                                                           This land that's north of England has odd place names lile Loch Lochy & Loch Oich   \n",
      "13                                                                                                                                                                 A New England boiled dinner is traditionally made with this cured deli meat   \n",
      "14                                                                                                                                          This former Boston College & New England Patriots QB was the CFL's most outstanding player 6 times   \n",
      "15                                                                                                                                                     Conrad Witz depicted this wealthy queen with King Solomon in the 15th C. work seen here   \n",
      "16                                                                                                                                   In \"A Connecticut Yankee in King Arthur's Court\", his character puts Hank Morgan to sleep for 1,300 years   \n",
      "17  (<a href=\"http://www.j-archive.com/media/2006-10-12_DJ_25.jpg\" target=\"_blank\">Cheryl of the Clue Crew reports from on high on Catalina Island, CA.</a>)  Catalina's only city shares its name with this island of the King Arthur legends   \n",
      "18                                                                                                                                      The short hairstyles worn by the men who fought the Cavaliers in 17th C. England earned them this name   \n",
      "19                                                                                                                                            The name Zog is not as much in vogue as it once was, when King Zog I ruled this European country   \n",
      "20                                                                                                                              In 1604 King James I called this plant a \"perpetual stinking torment\" & \"dangerous to the lungs\"; he was right   \n",
      "21                                                                                                                                      Now meaning those who are hostile to the arts, in biblical times it was a people subdued by King David   \n",
      "22                                                                                                                                                       In her first major role, Julia served up Italian food New England style in this movie   \n",
      "23                                                                                                                                                                     Henry VII was the first ruler from this family on the throne of England   \n",
      "24                                                                                                                                                                                                                        1910: King Manuel II   \n",
      "25                                                                                                                                                                                                         1947: Eastern Europe's King Michael   \n",
      "26                                                                                                                                                             Born Giovanni Caboto, this Venetian did his exploring in the service of England   \n",
      "27                                                                                                                                                   King Solomon is a character in \"La Reine de Saba\", an opera about the queen of this place   \n",
      "28                                                                                                                                           It's the island where Fay Wray first encountered King Kong; to think of its name, use your \"head\"   \n",
      "29                                                                                                                                                                                        It's based on the memoir \"Anna And The King Of Siam\"   \n",
      "30                                                                                                                                                    Both England's King George V & FDR put their stamp of approval on this \"King of Hobbies\"   \n",
      "31                                                                                                                                         Stephen King not only wrote the script for this 1986 film about possessed machinery, he directed it   \n",
      "32                                                                                                                                                                            In 1832 this editor founded the New England Anti-Slavery Society   \n",
      "33                                                                                                                   A special Larry King tonight this \"wubbulous\" children's author & his thoughts on Rosie starring in his big Broadway show   \n",
      "34                                                                                                                                                    On May 9, 1946 this country's King Victor Emmanuel abdicated in favor of his son Umberto   \n",
      "35                                                                                                                                      In retaliation for Viking raids, this \"Unready\" king of England attacks Norse areas of the Isle of Man   \n",
      "36                                                                                                                                      With the crowning of King Boleslaw, this central European nation is recognized as an independent state   \n",
      "37                                                                                                                                                Peregrine White, the 1st child born in New England of English parents, was born on this ship   \n",
      "38                                                                                                                                        Before he was Canada's P.M., William Lyon Mackenzie King lived in this famous house with Jane Addams   \n",
      "39                                                                                                                                                                 In 1962, this country became a constitutional monarchy under King Hassan II   \n",
      "40                                                                                                                                                              Napoleon's plans to invade England were dashed by this October 21, 1805 battle   \n",
      "41                                                                                                                                              A statue of King Kamehameha I stands guard outside the judiciary building in this capital city   \n",
      "42                                                                                                                                                Of King Ad Rock, Thugmuffin C, MCA or Mike D, the one who's not a member of the Beastie Boys   \n",
      "43                                                                                                                            In order to marry a twice-divorced American woman, King Edward VIII of this country abdicated the throne in 1936   \n",
      "44                                                                                                                                     In 1616 she & her husband John Rolfe traveled to England to help raise funds for the Virginia colonists   \n",
      "45                                                                                                                                                     Except when it's on tour, the most important King Tut collection is housed in this city   \n",
      "46                                                                                                                                                                   New England Federalists convened in Hartford in 1814 to denounce this war   \n",
      "47                                                                                                                                                    On April 27, 1938 Countess Geraldine Apponyi of Hungary married King Zog of this country   \n",
      "48                                                                                                                                                                             This capital was founded by Sweden's King Gustav I Vasa in 1550   \n",
      "\n",
      "                          Answer  \n",
      "0                     Pocahontas  \n",
      "1                 the HMS Beagle  \n",
      "2                  Massachusetts  \n",
      "3      the White Cliffs of Dover  \n",
      "4                         sitcom  \n",
      "5                           Maam  \n",
      "6                         Poland  \n",
      "7                       Crusades  \n",
      "8                        Tristan  \n",
      "9             Captain John Smith  \n",
      "10                       William  \n",
      "11                        Acadia  \n",
      "12                      Scotland  \n",
      "13                   corned beef  \n",
      "14                   Doug Flutie  \n",
      "15                Queen of Sheba  \n",
      "16                        Merlin  \n",
      "17                        Avalon  \n",
      "18                the Roundheads  \n",
      "19                       Albania  \n",
      "20                       tobacco  \n",
      "21                  a Philistine  \n",
      "22                  Mystic Pizza  \n",
      "23                         Tudor  \n",
      "24                      Portugal  \n",
      "25                       Romania  \n",
      "26                    John Cabot  \n",
      "27                         Sheba  \n",
      "28                  Skull Island  \n",
      "29              \"The King And I\"  \n",
      "30  Philately (stamp collecting)  \n",
      "31             Maximum Overdrive  \n",
      "32        William Lloyd Garrison  \n",
      "33                     Dr. Seuss  \n",
      "34                         Italy  \n",
      "35                      Ethelred  \n",
      "36                        Poland  \n",
      "37                 the Mayflower  \n",
      "38       Hull House (in Chicago)  \n",
      "39                       Morocco  \n",
      "40           Battle of Trafalgar  \n",
      "41                      Honolulu  \n",
      "42                  Thugmuffin C  \n",
      "43                       England  \n",
      "44                    Pocahontas  \n",
      "45                         Cairo  \n",
      "46                   War of 1812  \n",
      "47                       Albania  \n",
      "48             Helsinki, Finland  \n"
     ]
    }
   ],
   "source": [
    "print(jeopardy_question_filter(jeopardy, [\"King\", \"England\"], 49))"
   ]
  },
  {
   "cell_type": "markdown",
   "metadata": {},
   "source": [
    "3. Test your original function with a few different sets of words to try to find some ways your function breaks. Edit your function so it is more robust.\n",
    "\n",
    "   For example, think about capitalization. We probably want to find questions that contain the word `\"King\"` or `\"king\"`.\n",
    "   \n",
    "   You may also want to check to make sure you don't find rows that contain substrings of your given words. For example, our function found a question that didn't contain the word `\"king\"`, however it did contain the word `\"viking\"` &mdash; it found the `\"king\"` inside `\"viking\"`. Note that this also comes with some drawbacks &mdash; you would no longer find questions that contained words like `\"England's\"`."
   ]
  },
  {
   "cell_type": "code",
   "execution_count": 13,
   "metadata": {},
   "outputs": [
    {
     "name": "stdout",
     "output_type": "stream",
     "text": [
      "Empty DataFrame\n",
      "Columns: [index, Show Number, Air Date, Round, Category, Value, Question, Answer]\n",
      "Index: []\n"
     ]
    }
   ],
   "source": [
    "print(jeopardy_question_filter(jeopardy, [\"england\"], 49))"
   ]
  },
  {
   "cell_type": "markdown",
   "metadata": {},
   "source": [
    "4. We may want to eventually compute aggregate statistics, like `.mean()` on the `\" Value\"` column. But right now, the values in that column are strings. Convert the`\" Value\"` column to floats. If you'd like to, you can create a new column with float values.\n",
    "\n",
    "   Now that you can filter the dataset of question, use your new column that contains the float values of each question to find the \"difficulty\" of certain topics. For example, what is the average value of questions that contain the word `\"King\"`?\n",
    "   \n",
    "   Make sure to use the dataset that contains the float values as the dataset you use in your filtering function."
   ]
  },
  {
   "cell_type": "code",
   "execution_count": 14,
   "metadata": {},
   "outputs": [],
   "source": [
    "jeopardy['value_float'] = jeopardy['Value'].apply(lambda val: float(val[1:].replace(\",\",\"\")) if val != \"None\" else float(0))"
   ]
  },
  {
   "cell_type": "code",
   "execution_count": 15,
   "metadata": {},
   "outputs": [
    {
     "name": "stdout",
     "output_type": "stream",
     "text": [
      "   Show Number    Air Date      Round                         Category Value  \\\n",
      "0         4680  2004-12-31  Jeopardy!                          HISTORY  $200   \n",
      "1         4680  2004-12-31  Jeopardy!  ESPN's TOP 10 ALL-TIME ATHLETES  $200   \n",
      "2         4680  2004-12-31  Jeopardy!      EVERYBODY TALKS ABOUT IT...  $200   \n",
      "3         4680  2004-12-31  Jeopardy!                 THE COMPANY LINE  $200   \n",
      "4         4680  2004-12-31  Jeopardy!              EPITAPHS & TRIBUTES  $200   \n",
      "\n",
      "                                                                                                      Question  \\\n",
      "0             For the last 8 years of his life, Galileo was under house arrest for espousing this man's theory   \n",
      "1  No. 2: 1912 Olympian; football star at Carlisle Indian School; 6 MLB seasons with the Reds, Giants & Braves   \n",
      "2                     The city of Yuma in this state has a record average of 4,055 hours of sunshine each year   \n",
      "3                         In 1963, live on \"The Art Linkletter Show\", this company served its billionth burger   \n",
      "4     Signer of the Dec. of Indep., framer of the Constitution of Mass., second President of the United States   \n",
      "\n",
      "       Answer  value_float  \n",
      "0  Copernicus        200.0  \n",
      "1  Jim Thorpe        200.0  \n",
      "2     Arizona        200.0  \n",
      "3  McDonald's        200.0  \n",
      "4  John Adams        200.0  \n"
     ]
    }
   ],
   "source": [
    "print(jeopardy.head())"
   ]
  },
  {
   "cell_type": "code",
   "execution_count": 16,
   "metadata": {},
   "outputs": [],
   "source": [
    "def avg_difficulty_filter_question(jeopardy, filters, rows):\n",
    "    filtered_jeopardy = jeopardy_question_filter(jeopardy, filters, rows)\n",
    "    average_difficulty = filtered_jeopardy.value_float.mean()\n",
    "    return average_difficulty"
   ]
  },
  {
   "cell_type": "code",
   "execution_count": 17,
   "metadata": {},
   "outputs": [
    {
     "name": "stdout",
     "output_type": "stream",
     "text": [
      "834.4564240790656\n"
     ]
    }
   ],
   "source": [
    "# average difficulty of questions containing \"king\" in their question string\n",
    "\n",
    "print(avg_difficulty_filter_question(jeopardy, [\"king\"], 0))"
   ]
  },
  {
   "cell_type": "markdown",
   "metadata": {},
   "source": [
    "5. Write a function that returns the count of unique answers to all of the questions in a dataset. For example, after filtering the entire dataset to only questions containing the word `\"King\"`, we could then find all of the unique answers to those questions. The answer \"Henry VIII\" appeared 55 times and was the most common answer."
   ]
  },
  {
   "cell_type": "code",
   "execution_count": 18,
   "metadata": {},
   "outputs": [],
   "source": [
    "def unique_answer_counts(jeopardy, filters, rows):\n",
    "    filtered_question = jeopardy_question_filter(jeopardy, filters, rows)\n",
    "    unique_answers = filtered_question['Answer'].value_counts()\n",
    "    return unique_answers"
   ]
  },
  {
   "cell_type": "code",
   "execution_count": 19,
   "metadata": {},
   "outputs": [
    {
     "name": "stdout",
     "output_type": "stream",
     "text": [
      "2\n"
     ]
    }
   ],
   "source": [
    "unique_answer_list = unique_answer_counts(jeopardy, [\"King\"], 0)\n",
    "print(unique_answer_list['Henry VIII'])"
   ]
  },
  {
   "cell_type": "markdown",
   "metadata": {},
   "source": [
    "6. Explore from here! This is an incredibly rich dataset, and there are so many interesting things to discover. There are a few columns that we haven't even started looking at yet. Here are some ideas on ways to continue working with this data:\n",
    "\n",
    " * Investigate the ways in which questions change over time by filtering by the date. How many questions from the 90s use the word `\"Computer\"` compared to questions from the 2000s?\n",
    " * Is there a connection between the round and the category? Are you more likely to find certain categories, like `\"Literature\"` in Single Jeopardy or Double Jeopardy?\n",
    " * Build a system to quiz yourself. Grab random questions, and use the <a href=\"https://docs.python.org/3/library/functions.html#input\">input</a> function to get a response from the user. Check to see if that response was right or wrong."
   ]
  },
  {
   "cell_type": "code",
   "execution_count": 20,
   "metadata": {},
   "outputs": [
    {
     "name": "stdout",
     "output_type": "stream",
     "text": [
      "76\n",
      "76\n"
     ]
    }
   ],
   "source": [
    "jeopardy['year'] = jeopardy['Air Date'].apply(lambda date: date.split(\"-\")[0])\n",
    "jeopardy['month'] = jeopardy['Air Date'].apply(lambda date: date.split(\"-\")[1])\n",
    "jeopardy['day'] = jeopardy['Air Date'].apply(lambda date: date.split(\"-\")[2])\n",
    "\n",
    "# print(jeopardy.head())\n",
    "\n",
    "computer_question = jeopardy_question_filter(jeopardy, ['Question', 'question'], 0)\n",
    "\n",
    "count_question_computerword_2000s = computer_question[computer_question.year.apply(lambda year: int(year) > 2000 )]['Show Number'].count()\n",
    "print(count_question_computerword_2000s)\n",
    "\n",
    "count_question_computerword_1990s = computer_question[computer_question.year.apply(lambda year: int(year) >= 1990 and int(year) < 2000 )]['Show Number'].count()\n",
    "print(count_question_computerword_2000s)\n"
   ]
  },
  {
   "cell_type": "code",
   "execution_count": 37,
   "metadata": {},
   "outputs": [
    {
     "name": "stdout",
     "output_type": "stream",
     "text": [
      "                  Show Number  Air Date  Category   Value  Question  Answer  \\\n",
      "Round                                                                         \n",
      "Double Jeopardy!       105912    105912    105912  105912    105912  105911   \n",
      "Final Jeopardy!          3631      3631      3631    3631      3631    3631   \n",
      "Jeopardy!              107384    107384    107384  107384    107384  107383   \n",
      "Tiebreaker                  3         3         3       3         3       3   \n",
      "\n",
      "                  value_float    year   month     day  \n",
      "Round                                                  \n",
      "Double Jeopardy!       105912  105912  105912  105912  \n",
      "Final Jeopardy!          3631    3631    3631    3631  \n",
      "Jeopardy!              107384  107384  107384  107384  \n",
      "Tiebreaker                  3       3       3       3  \n"
     ]
    }
   ],
   "source": [
    "unique_categories = jeopardy['Category'].nunique()\n",
    "unique_rounds = jeopardy['Round'].nunique()\n",
    "\n",
    "# print(unique_categories)\n",
    "# print(unique_rounds)\n",
    "\n",
    "round_wise_data = jeopardy.groupby(['Round']).count()\n",
    "\n",
    "print(round_wise_data)\n",
    "\n",
    "# Double Jeopardy is the round with highest number of category.\n",
    "# While Tiebraker is the round with lowest number of category.\n",
    "\n"
   ]
  },
  {
   "cell_type": "markdown",
   "metadata": {},
   "source": [
    "## Solution"
   ]
  },
  {
   "cell_type": "markdown",
   "metadata": {},
   "source": [
    "7. Compare your program to our <a href=\"https://content.codecademy.com/PRO/independent-practice-projects/jeopardy/jeopardy_solution.zip\">sample solution code</a> - remember, that your program might look different from ours (and probably will) and that's okay!"
   ]
  },
  {
   "cell_type": "markdown",
   "metadata": {},
   "source": [
    "8. Great work! Visit <a href=\"https://discuss.codecademy.com/t/this-is-jeopardy-challenge-project-python-pandas/462365\">our forums</a> to compare your project to our sample solution code. You can also learn how to host your own solution on GitHub so you can share it with other learners! Your solution might look different from ours, and that's okay! There are multiple ways to solve these projects, and you'll learn more by seeing others' code."
   ]
  },
  {
   "cell_type": "code",
   "execution_count": null,
   "metadata": {},
   "outputs": [],
   "source": []
  }
 ],
 "metadata": {
  "kernelspec": {
   "display_name": "Python 3 (ipykernel)",
   "language": "python",
   "name": "python3"
  },
  "language_info": {
   "codemirror_mode": {
    "name": "ipython",
    "version": 3
   },
   "file_extension": ".py",
   "mimetype": "text/x-python",
   "name": "python",
   "nbconvert_exporter": "python",
   "pygments_lexer": "ipython3",
   "version": "3.11.3"
  }
 },
 "nbformat": 4,
 "nbformat_minor": 2
}
