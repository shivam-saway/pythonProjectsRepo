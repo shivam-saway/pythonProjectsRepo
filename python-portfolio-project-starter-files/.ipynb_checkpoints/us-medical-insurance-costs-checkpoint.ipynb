{
 "cells": [
  {
   "cell_type": "markdown",
   "metadata": {},
   "source": [
    "# U.S. Medical Insurance Costs"
   ]
  },
  {
   "cell_type": "markdown",
   "metadata": {},
   "source": [
    "# Project Scope\n",
    "\n",
    "1. Find number of females insured and their percentage share with health insurance. Find their average insurance cost.\n",
    "2. Find number of males insured with health insurance. Also find their average insurance cost.\n",
    "3. Compare the average insurance cost of male group to female group.\n",
    "4. Categorise the people into groups on the basis of number of children they have and find the average insurance cost of each group and compare it.\n",
    "5. Categorise people into groups on the basis of their region. Find the average insurance cost of each group and compare it.\n",
    "6. Categorise people into groups on the basis wheather they somke or not. Find the average insurance cost of each category and compare it.\n",
    "7. Categorise people into groups on the basis of age groups i.e., Group I (Upto 25 years), Group II (From 25 years to 40 years), Group III (From 40 Years to 60 years of age) and Group IV (above 60 years). Find average insurance cost of each group and compare it. \n"
   ]
  },
  {
   "cell_type": "code",
   "execution_count": 1,
   "metadata": {},
   "outputs": [],
   "source": [
    "import csv\n",
    "age=[]\n",
    "sex = []\n",
    "children = []\n",
    "smoker = []\n",
    "region = []\n",
    "insurance_cost = []\n",
    "insurance_data_dict_list = []\n",
    "\n",
    "with open(\"insurance.csv\", newline='') as insurance_data:\n",
    "    insurance_dict = csv.DictReader(insurance_data)\n",
    "    for row in insurance_dict:\n",
    "        insurance_data_dict_list.append(row)\n",
    "        age.append(row['age'])\n",
    "        sex.append(row['sex'])        \n",
    "        children.append(row['children'])        \n",
    "        smoker.append(row['smoker'])        \n",
    "        region.append(row['region'])\n",
    "        insurance_cost.append(row['charges'])\n",
    "        "
   ]
  },
  {
   "cell_type": "code",
   "execution_count": 2,
   "metadata": {},
   "outputs": [
    {
     "name": "stdout",
     "output_type": "stream",
     "text": [
      "The total number of females insured are 662 making 49.48 percent of total number of people insured.\n"
     ]
    }
   ],
   "source": [
    "#Calculating total number of female and their percentage in total number of people insured in US.\n",
    "\n",
    "def calculate_no_of_gender_insured(data, gender):\n",
    "    total_gender = 0\n",
    "    total_gender_percentage = 0\n",
    "    total_persons = len(data)\n",
    "    \n",
    "    if len(data) == 0:\n",
    "        total_gender = 0\n",
    "    else:\n",
    "        gender_persons = [item for item in data if item == gender]\n",
    "        total_gender = len(gender_persons)\n",
    "        total_gender_percentage = round((total_gender/total_persons)*100, 2)\n",
    "        \n",
    "    return total_gender, total_gender_percentage\n",
    "        \n",
    "no_of_females, percentage_of_females = calculate_no_of_gender_insured(sex,\"female\")\n",
    "\n",
    "print(\"The total number of females insured are {NOF} making {POF} percent of total number of people insured.\"\n",
    "      .format(NOF=no_of_females,POF=percentage_of_females))"
   ]
  },
  {
   "cell_type": "code",
   "execution_count": 3,
   "metadata": {},
   "outputs": [
    {
     "name": "stdout",
     "output_type": "stream",
     "text": [
      "The average insurance cost of female in US is 12569.58 US dollars.\n"
     ]
    }
   ],
   "source": [
    "#Calculating average insurance cost of females insured in US\n",
    "\n",
    "def calculate_average_insurance_cost_based_on_gender(data, sex):\n",
    "    average_cost = 0\n",
    "    total_cost = 0\n",
    "    count = 0\n",
    "    for entry in data:\n",
    "        if entry['sex'] == sex:\n",
    "            total_cost += float(entry['charges'])\n",
    "            count += 1\n",
    "    if count != 0:\n",
    "        average_cost = round((total_cost/count),2)\n",
    "    return average_cost\n",
    "        \n",
    "average_insurance_cost_of_female = calculate_average_insurance_cost_based_on_gender(insurance_data_dict_list, \"female\")\n",
    "\n",
    "print(\"The average insurance cost of female in US is \" + str(average_insurance_cost_of_female) + \" US dollars.\")"
   ]
  },
  {
   "cell_type": "code",
   "execution_count": 4,
   "metadata": {},
   "outputs": [
    {
     "name": "stdout",
     "output_type": "stream",
     "text": [
      "The total number of males insured are 676 making 50.52 percent of total number of people insured.\n"
     ]
    }
   ],
   "source": [
    "#Calculating total number of male and their percentage in total number of people insured in US.\n",
    "\n",
    "no_of_males, percentage_of_males = calculate_no_of_gender_insured(sex,\"male\")\n",
    "\n",
    "print(\"The total number of males insured are {NOM} making {POM} percent of total number of people insured.\"\n",
    "      .format(NOM=no_of_males,POM=percentage_of_males))"
   ]
  },
  {
   "cell_type": "code",
   "execution_count": 5,
   "metadata": {},
   "outputs": [
    {
     "name": "stdout",
     "output_type": "stream",
     "text": [
      "The average insurance cost of male in US is 13956.75 US dollars.\n"
     ]
    }
   ],
   "source": [
    "#Calculating average insurance cost of males insured in US\n",
    "\n",
    "average_insurance_cost_of_male = calculate_average_insurance_cost_based_on_gender(insurance_data_dict_list, \"male\")\n",
    "\n",
    "print(\"The average insurance cost of male in US is \" + str(average_insurance_cost_of_male) + \" US dollars.\")"
   ]
  },
  {
   "cell_type": "code",
   "execution_count": 6,
   "metadata": {},
   "outputs": [
    {
     "name": "stdout",
     "output_type": "stream",
     "text": [
      "The difference in expenditure of male insurance to female insurance in US is 1387.17 US dollars.\n"
     ]
    }
   ],
   "source": [
    "insurance_cost_male_to_female = abs(average_insurance_cost_of_male - average_insurance_cost_of_female)\n",
    "\n",
    "print(\"The difference in expenditure of male insurance to female insurance in US is \" + str(insurance_cost_male_to_female) + \" US dollars.\")"
   ]
  },
  {
   "cell_type": "markdown",
   "metadata": {},
   "source": [
    "### The average spending of a male in US is approximately 1400 USD more than a female in US."
   ]
  },
  {
   "cell_type": "code",
   "execution_count": 7,
   "metadata": {},
   "outputs": [],
   "source": [
    "# Divide peoples into the groups on the distinct column value.\n",
    "\n",
    "def get_distinct_values_of_column(column):\n",
    "    unique_list=[]\n",
    "    if len(column) != 0:\n",
    "        unique_list = list(set(column))\n",
    "    return unique_list\n",
    "\n",
    "#categories_on_number_of_children = get_distinct_values_of_column(children)\n",
    "\n",
    "def group_people_on_distinct_value_of_column(distinct_column_value, insurance_record, column_name):\n",
    "    people_group_on_distinct_column_value = {}\n",
    "    for record in insurance_record:\n",
    "        if record[column_name] in distinct_column_value:\n",
    "            if record[column_name] in people_group_on_distinct_column_value.keys():\n",
    "                people_group_on_distinct_column_value[record[column_name]].append(record)\n",
    "            else:\n",
    "                people_group_on_distinct_column_value[record[column_name]] = [record]\n",
    "    return people_group_on_distinct_column_value\n",
    "\n",
    "#people_categories_on_number_of_children = group_people_on_number_of_children(categories_on_number_of_children, insurance_data_dict_list)\n",
    "\n",
    "# calculating average insurance cost of people in each group of number of children\n",
    "\n",
    "def calculate_average_insurance_cost_in_each_group(group_wise_record):\n",
    "    averages = {}\n",
    "    for key, value in group_wise_record.items():\n",
    "        total_insurance_cost_in_category = 0\n",
    "        for item in value:\n",
    "            total_insurance_cost_in_category += float(item['charges'])\n",
    "        average = total_insurance_cost_in_category/len(value)\n",
    "        averages[len(value)] = { key: average }\n",
    "    return averages\n",
    "\n",
    "#print(calculate_average_insurance_cost_group_num_of_children(people_categories_on_number_of_children))\n",
    "        "
   ]
  },
  {
   "cell_type": "code",
   "execution_count": 8,
   "metadata": {},
   "outputs": [
    {
     "name": "stdout",
     "output_type": "stream",
     "text": [
      "{574: {'0': 12365.975601635882}, 324: {'1': 12731.171831635793}, 157: {'3': 15355.31836681528}, 240: {'2': 15073.563733958328}, 18: {'5': 8786.035247222222}, 25: {'4': 13850.656311199999}}\n"
     ]
    }
   ],
   "source": [
    "# Categorise the people into groups on the basis of number of children they have and find the average insurance cost of each group and compare it.\n",
    "categories_on_number_of_children = get_distinct_values_of_column(children)\n",
    "group_wise_record_children_column = group_people_on_distinct_value_of_column(categories_on_number_of_children, insurance_data_dict_list, 'children')\n",
    "print(calculate_average_insurance_cost_in_each_group(group_wise_record_children_column))"
   ]
  },
  {
   "cell_type": "markdown",
   "metadata": {},
   "source": [
    "##### The key in the dictionary returned represents the count of people in each category and value is a dictionary whose key represents categrory name and value represents the average cost they spent on insurance.\n",
    "\n",
    "##### peoples in categories having children more than 3 have less total count but the average still is very large specifically for peoples having 5 childrens. people with 5 childrens are spending about 14000 USD on their health insurance."
   ]
  },
  {
   "cell_type": "code",
   "execution_count": 9,
   "metadata": {},
   "outputs": [
    {
     "name": "stdout",
     "output_type": "stream",
     "text": [
      "{325: {'northwest': 12417.575373969228}, 364: {'southeast': 14735.411437609895}, 324: {'northeast': 13406.3845163858}}\n"
     ]
    }
   ],
   "source": [
    "# Categorise people into groups on the basis of their region. Find the average insurance cost of each group and compare it.\n",
    "categories_on_region = get_distinct_values_of_column(region)\n",
    "group_wise_record_region_column = group_people_on_distinct_value_of_column(categories_on_region, insurance_data_dict_list, 'region')\n",
    "print(calculate_average_insurance_cost_in_each_group(group_wise_record_region_column))"
   ]
  },
  {
   "cell_type": "markdown",
   "metadata": {},
   "source": [
    "##### The countwise distribution of people in region is uniform. it does not varies much.\n",
    "\n",
    "##### The people in northwest region are spending 1000 USD less than the people in northeast region on their health insurance. it seems like people of northwest region are healtheir than other region people.\n",
    "\n",
    "##### The people in southeast region are spending the most on their health insurance. Approximately 2000 USD more than peoples in other regions "
   ]
  },
  {
   "cell_type": "code",
   "execution_count": 10,
   "metadata": {},
   "outputs": [
    {
     "name": "stdout",
     "output_type": "stream",
     "text": [
      "{274: {'yes': 32050.23183153285}, 1064: {'no': 8434.268297856199}}\n"
     ]
    }
   ],
   "source": [
    "# Categorise people into groups on the basis wheather they somke or not. Find the average insurance cost of each category and compare it.\n",
    "categories_on_smoking = get_distinct_values_of_column(smoker)\n",
    "group_wise_record_smoker_column = group_people_on_distinct_value_of_column(categories_on_smoking, insurance_data_dict_list, 'smoker')\n",
    "print(calculate_average_insurance_cost_in_each_group(group_wise_record_smoker_column))"
   ]
  },
  {
   "cell_type": "markdown",
   "metadata": {},
   "source": [
    "##### The people who smoke have less count but still their average is high. It shows smokers are spending more on their health insurance. The smoking accounts for most part of the amount you pay on health insurance. If we compare smoker to non-smoker, smoker pays four times money of the non-smoker person.\n",
    "\n",
    "##### However people who dont smoke are paying less and their count is also high in the distribution. It means the actual cost must be less than the average in non-smoker category."
   ]
  },
  {
   "cell_type": "code",
   "execution_count": 11,
   "metadata": {},
   "outputs": [
    {
     "name": "stdout",
     "output_type": "stream",
     "text": [
      "{306: {'A': 9087.015806924835}, 395: {'B': 11096.679994430377}, 546: {'C': 15888.757668186812}, 91: {'D': 21063.163397912085}}\n"
     ]
    }
   ],
   "source": [
    "# modifying insurance record and putting category label in age column\n",
    "# if person is of age upto 25 years then label is A\n",
    "# if person is of age more than 25 and less than or equals to 40 years of age then label is B\n",
    "# if person age is more than 40 years and less than or wquals to 60 years then label is C\n",
    "# is person age is more than 60 years then label is D\n",
    "\n",
    "import copy\n",
    "\n",
    "def modify_insurance_data_for_uncategorical_column(insurance_records, column_name):\n",
    "    modified_insurance_data_dict_list = [copy.deepcopy(record) for record in insurance_records]\n",
    "    for record in modified_insurance_data_dict_list:\n",
    "        if int(record[column_name]) <= 25:\n",
    "            record[column_name] = 'A'\n",
    "        elif int(record[column_name]) > 25 and int(record[column_name]) <=40:\n",
    "            record[column_name] = 'B'\n",
    "        elif int(record[column_name]) > 40 and int(record[column_name]) <=60:\n",
    "            record[column_name] = 'C'\n",
    "        else:\n",
    "            record[column_name] = 'D'\n",
    "    return modified_insurance_data_dict_list\n",
    "\n",
    "new_insurance_data_age_categorized = modify_insurance_data_for_uncategorical_column(insurance_data_dict_list, 'age')\n",
    "\n",
    "# Categorise people into groups on the basis of age groups i.e., Group I (Upto 25 years), Group II (From 25 years to 40 years), \n",
    "# Group III (From 40 Years to 60 years of age) and Group IV (above 60 years). \n",
    "# Find average insurance cost of each group and compare it.\n",
    "group_wise_record_age_column = group_people_on_distinct_value_of_column(['A','B','C','D'], new_insurance_data_age_categorized, 'age')\n",
    "print(calculate_average_insurance_cost_in_each_group(group_wise_record_age_column))\n"
   ]
  },
  {
   "cell_type": "markdown",
   "metadata": {},
   "source": [
    "##### Higher the age , higher is the health insurance cost"
   ]
  }
 ],
 "metadata": {
  "kernelspec": {
   "display_name": "Python 3 (ipykernel)",
   "language": "python",
   "name": "python3"
  },
  "language_info": {
   "codemirror_mode": {
    "name": "ipython",
    "version": 3
   },
   "file_extension": ".py",
   "mimetype": "text/x-python",
   "name": "python",
   "nbconvert_exporter": "python",
   "pygments_lexer": "ipython3",
   "version": "3.11.3"
  }
 },
 "nbformat": 4,
 "nbformat_minor": 4
}
